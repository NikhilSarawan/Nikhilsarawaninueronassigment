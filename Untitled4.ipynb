{
 "cells": [
  {
   "cell_type": "code",
   "execution_count": 1,
   "id": "463cfc93",
   "metadata": {},
   "outputs": [],
   "source": [
    "a=10"
   ]
  },
  {
   "cell_type": "code",
   "execution_count": 8,
   "id": "7976c18b",
   "metadata": {},
   "outputs": [
    {
     "name": "stdout",
     "output_type": "stream",
     "text": [
      "my name is sudh\n"
     ]
    }
   ],
   "source": [
    "if a < 15:\n",
    "    print(\"my name is sudh\")\n"
   ]
  },
  {
   "cell_type": "code",
   "execution_count": 7,
   "id": "7f26f4e2",
   "metadata": {},
   "outputs": [
    {
     "data": {
      "text/plain": [
       "True"
      ]
     },
     "execution_count": 7,
     "metadata": {},
     "output_type": "execute_result"
    }
   ],
   "source": [
    "a <15"
   ]
  },
  {
   "cell_type": "code",
   "execution_count": 3,
   "id": "085e3262",
   "metadata": {},
   "outputs": [
    {
     "name": "stdout",
     "output_type": "stream",
     "text": [
      "my name is sudh\n"
     ]
    }
   ],
   "source": [
    "a = 10\n",
    "if a < 15 :\n",
    "    print(\"my name is sudh\")"
   ]
  },
  {
   "cell_type": "code",
   "execution_count": 4,
   "id": "82266e91",
   "metadata": {},
   "outputs": [],
   "source": [
    "a = 10\n",
    "if 24< 15 :\n",
    "    print(\"my name is sudh\")"
   ]
  },
  {
   "cell_type": "code",
   "execution_count": 5,
   "id": "c85d2cc9",
   "metadata": {},
   "outputs": [
    {
     "data": {
      "text/plain": [
       "False"
      ]
     },
     "execution_count": 5,
     "metadata": {},
     "output_type": "execute_result"
    }
   ],
   "source": [
    "24< 15"
   ]
  },
  {
   "cell_type": "code",
   "execution_count": 12,
   "id": "59216be8",
   "metadata": {},
   "outputs": [
    {
     "name": "stdout",
     "output_type": "stream",
     "text": [
      " 10 is lesser then 3\n"
     ]
    }
   ],
   "source": [
    "if 5<10 :\n",
    "    print(\" 10 is lesser then 3\")\n",
    "else :\n",
    "    print(\"if statement is wrong\")"
   ]
  },
  {
   "cell_type": "code",
   "execution_count": 17,
   "id": "2feb0ec5",
   "metadata": {},
   "outputs": [
    {
     "name": "stdout",
     "output_type": "stream",
     "text": [
      "10\n",
      " i will be able to buy phone\n"
     ]
    }
   ],
   "source": [
    "income = int(input())\n",
    "if income < 50:\n",
    "    print (\" i will be able to buy phone\")\n",
    "elif income < 70 :\n",
    "    print (\"i will be able to buy car\")\n",
    "elif income < 90 :\n",
    "    print(\" i will be able to rent house\")\n",
    "else :\n",
    "    print(\" i wont be able to buy anything\")"
   ]
  },
  {
   "cell_type": "code",
   "execution_count": 31,
   "id": "b992b25b",
   "metadata": {},
   "outputs": [
    {
     "name": "stdout",
     "output_type": "stream",
     "text": [
      "10\n",
      "discount will be 0.5\n"
     ]
    }
   ],
   "source": [
    "Total_price = int(input())\n",
    "if Total_price > 20000:\n",
    "    discount = Total_price * .20\n",
    "    print(\"Discount will be\" , discount)\n",
    "elif Total_price <= 7000 :\n",
    "    discount = Total_price *.05\n",
    "    print(\"discount will be\" , discount)\n",
    "else :\n",
    "    print(\"wont be able to give any discount\")"
   ]
  },
  {
   "cell_type": "code",
   "execution_count": 44,
   "id": "d7a87671",
   "metadata": {},
   "outputs": [
    {
     "name": "stdout",
     "output_type": "stream",
     "text": [
      "SUDHANSHU5\n",
      "you will be able to get a discount of 5% \n",
      "you will be able to get one neuron with this amount  6726.0\n"
     ]
    }
   ],
   "source": [
    "coup= input()\n",
    "if coup == \"SUDHANSHU5\" :\n",
    "    print(\"you will be able to get a discount of 5% \")\n",
    "    paid_amount = 7080 - 7080*.05\n",
    "    print (\"you will be able to get one neuron with this amount \" ,paid_amount)\n",
    "else :\n",
    "    print(\"kindly use a valid couple code\")"
   ]
  },
  {
   "cell_type": "code",
   "execution_count": 46,
   "id": "664d7584",
   "metadata": {},
   "outputs": [
    {
     "data": {
      "text/plain": [
       "True"
      ]
     },
     "execution_count": 46,
     "metadata": {},
     "output_type": "execute_result"
    }
   ],
   "source": [
    "\"sudh\"==\"sudh\""
   ]
  },
  {
   "cell_type": "code",
   "execution_count": 47,
   "id": "96b81ffe",
   "metadata": {},
   "outputs": [
    {
     "name": "stdout",
     "output_type": "stream",
     "text": [
      "2\n",
      "it may take 6 month for transition\n"
     ]
    }
   ],
   "source": [
    "study_hour = int(input())\n",
    "if study_hour < 1:\n",
    "    print(\"it may take 8-9 month of time to make a transition\")\n",
    "elif study_hour < 4 and study_hour > 1 :\n",
    "    print(\"it may take 6 month for transition\")\n",
    "elif study_hour > 10 :\n",
    "    print(\"it will take 3 month of time for transition\")\n",
    "else :\n",
    "    print(\"it will be difficult\")"
   ]
  },
  {
   "cell_type": "code",
   "execution_count": 7,
   "id": "c5432a6b",
   "metadata": {},
   "outputs": [
    {
     "name": "stdout",
     "output_type": "stream",
     "text": [
      "4\n",
      "succed\n"
     ]
    }
   ],
   "source": [
    "study = float(input())\n",
    "if study <1 and study >0.5:\n",
    "    print(\"you may succeed\")\n",
    "elif study <6 and study >1:\n",
    "    print(\"succed\")\n",
    "else :  \n",
    "    print(\"fail\")"
   ]
  },
  {
   "cell_type": "code",
   "execution_count": 8,
   "id": "940ce5c4",
   "metadata": {},
   "outputs": [
    {
     "name": "stdout",
     "output_type": "stream",
     "text": [
      "valid\n"
     ]
    }
   ],
   "source": [
    "a = 9 \n",
    "if a==9:\n",
    "    print(\"valid\")"
   ]
  },
  {
   "cell_type": "code",
   "execution_count": null,
   "id": "15fe3e42",
   "metadata": {},
   "outputs": [],
   "source": []
  }
 ],
 "metadata": {
  "kernelspec": {
   "display_name": "Python 3 (ipykernel)",
   "language": "python",
   "name": "python3"
  },
  "language_info": {
   "codemirror_mode": {
    "name": "ipython",
    "version": 3
   },
   "file_extension": ".py",
   "mimetype": "text/x-python",
   "name": "python",
   "nbconvert_exporter": "python",
   "pygments_lexer": "ipython3",
   "version": "3.9.13"
  }
 },
 "nbformat": 4,
 "nbformat_minor": 5
}
